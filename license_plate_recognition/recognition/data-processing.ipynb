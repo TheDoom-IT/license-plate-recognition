{
 "cells": [
  {
   "cell_type": "code",
   "execution_count": 2,
   "id": "initial_id",
   "metadata": {
    "collapsed": true,
    "ExecuteTime": {
     "end_time": "2024-12-21T19:15:15.521198Z",
     "start_time": "2024-12-21T19:15:15.358589Z"
    }
   },
   "outputs": [],
   "source": [
    "import os\n",
    "from PIL import Image, ImageOps\n",
    "import numpy as np"
   ]
  },
  {
   "cell_type": "code",
   "execution_count": 32,
   "outputs": [],
   "source": [
    "from license_plate_recognition.segmentation.service import SegmentationService\n",
    "\n",
    "segmentation_service = SegmentationService()"
   ],
   "metadata": {
    "collapsed": false,
    "ExecuteTime": {
     "end_time": "2024-12-17T21:30:32.321757Z",
     "start_time": "2024-12-17T21:30:32.319623Z"
    }
   },
   "id": "f339cadb4a6befe8"
  },
  {
   "cell_type": "code",
   "execution_count": 61,
   "outputs": [],
   "source": [
    "def segment_directory(directory: str):\n",
    "    result = []\n",
    "    for file in os.listdir(directory):\n",
    "        print(file)\n",
    "        file_path = os.path.join(directory, file)\n",
    "        pillow_image = Image.open(file_path)\n",
    "        image = np.array(pillow_image)\n",
    "\n",
    "        characters = segmentation_service.segment(image)\n",
    "\n",
    "        for character in characters:\n",
    "            character_image = Image.fromarray(character)\n",
    "            result.append(character_image)\n",
    "    \n",
    "    return result"
   ],
   "metadata": {
    "collapsed": false,
    "ExecuteTime": {
     "end_time": "2024-12-21T20:34:34.982114Z",
     "start_time": "2024-12-21T20:34:34.979529Z"
    }
   },
   "id": "7d65fc01410e2b0e"
  },
  {
   "cell_type": "code",
   "execution_count": 51,
   "outputs": [
    {
     "name": "stdout",
     "output_type": "stream",
     "text": [
      "9d49300bf30e4574adb6a868dc9427a4.jpg\n",
      "polen52_jpg.rf.8a2a57ab10abf625343c0bb7735578ce.jpg\n",
      "c79e1f7c1ea04ed9b1dd96f99075e097.jpg\n",
      "3369f832f45847668f1419200277efe3.jpg\n",
      "kasonk_jpg.rf.9a0a733392b9feedd7fdf0fa7256419f.jpg\n",
      "88b844b183544bf4a41b5ab34c22a8b6.jpg\n",
      "40cd8fc86ee2493e970b42a36b6e647d.jpg\n",
      "dbcc7e6b7b474062844f07c68d00f6f8.jpg\n",
      "b5276ab20f3e4276ae87137cd460f1e0.jpg\n",
      "c7dd86bc6c2f42dbbce1457593e06bff.jpg\n",
      "fe03f120b4ef4345a53e206e35b80620.jpg\n",
      "3d9d85c031fe443683da62ed62d25d38.jpg\n",
      "d07173ad8be2469daaf0b82bb28a85d2.jpg\n",
      "f840562cec0f4e1682982f0022f5ec0c.jpg\n",
      "cdbb3ad928f34809866773530cf772ca.jpg\n",
      "pmkpasnk_jpg.rf.bc988de36424df916824ac6aeac0d3f9.jpg\n",
      "a3ee430dab6445c08270d0ad23d505c6.jpg\n",
      "d862d05b9edb4b2eac833f6af718f659.jpg\n",
      "4d0a98d2d6f44d198198b40aee96380c.jpg\n",
      "15559233878d469481b113b6938e11e7.jpg\n",
      "0ad1fdaec5184722af46e5ed54eb8a4f.jpg\n",
      "5189f2d49a2e46bd84f1427df0a8b624.jpg\n",
      "00dcbd4d83b94d1d80cf6df7af8b9093.jpg\n",
      "ljajkl_jpg.rf.d816983ad8f43c0b36001157d78051f5.jpg\n",
      "657f6d3054a64d88b929045a0000a064.jpg\n",
      "4f69ca8c667948c0bf7d8f2aa22b0f69.jpg\n",
      "1969803d9b1f45c0a96d6d8bab2cf461.jpg\n",
      "b8d658ca9d9643c381fc216c18317379.jpg\n",
      "fafc0378c17446e28ca604bb9f5662fe.jpg\n",
      "02ebed848aad4e8682132d9abb16b466.jpg\n",
      "1351409ff995442eb9bb873d0f524f8d.jpg\n",
      "G10ktkqTURBXy85NWJkMTQ0Mjg0MzczNzVmMjY2NGRhYWViY2NmNTY2OC5qcGVnkpUDABfNAy_NAcqTBc0EsM0Cdg_jpg.rf.7e40e72591bc3d35d900d9e009d5e4c6.jpg\n",
      "f21dd372f21e48c79537dc89610cd99d.jpg\n",
      "ssa_jpg.rf.fa5f11845d40669c19ff4b03f753b5f1.jpg\n",
      "c49ddcc320a94fb1ac27e59c3ca4061c.jpg\n",
      "1e1c6f49d44b43eca67a6d1017de2992.jpg\n",
      "692d792e11e048a58b6e6e7bb5fbb0ad.jpg\n",
      "01a190dbf2644b299937811d1530cbfa.jpg\n",
      "7c331c12f4ff48cebd2d3c7d8537a878.jpg\n",
      "4242ca49b7d04c19bc2422c7992729a7.jpg\n",
      "56c695584d17429696c5af4135497253.jpg\n",
      "uid_5febd809a9ddc0f23375f4dd7832155c1634104883981_width_900_play_0_pos_0_gs_0_height_506_jpg.rf.918ee77428aef9a677749d50eb673494.jpg\n",
      "knmnkmas_jpg.rf.5edecba9161c52e72bc43194d175de42.jpg\n",
      "thumb-article-1248-tmain_jpg.rf.0ce02fef5747ab99a8146c1f6eb86829.jpg\n",
      "02ecdb5328194448998de64c3f680a42.jpg\n",
      "renault-zoe-samochod-elektryczny-zima-2021-8-scaled_jpg.rf.90c1ee0d55784521e73e11bdb1e4a6d8.jpg\n",
      "Toyota-Mirai-31_40-1024x683_jpg.rf.d7d0d449274c06ec827b8e5198eb1d84.jpg\n",
      "aa0a2783c9c04fb3a873187a9bad4fcd.jpg\n",
      "e94ef82c95584f398edf44ab03422c80.jpg\n",
      "f100a0b8860e417fa5f322ba28bc5bae.jpg\n",
      "0001Z4JTCII2TV0E-C122-F4_jpg.rf.a098ae845ee8bda6ed47e08e34b9ccf2.jpg\n",
      "131015ff4501408dae794fd2c006255f.jpg\n",
      "8b2812dfbc834842ab2061905d4d0fb9.jpg\n",
      "209ae1c080ef484bad67475c77718660.jpg\n",
      "5766f0416c2445728273170bc6b2c66b.jpg\n",
      "a1ce55a5f76d4e5e89ed3dea84dcb3bd.jpg\n",
      "b41ce53c2e9f4038852f7c4700207849.jpg\n",
      "759dda6bb58b465cb7899db5122815c9.jpg\n",
      "37d6a963c01443eab11231c02ca0b743.jpg\n",
      "Tablica_zmniejszona_tymczasowa_jpg.rf.15130a30f3ece3b75e7f59d1afb1e343.jpg\n",
      "467ba4cb407d4682bd22d81926759aaa.jpg\n",
      "dde9380bfeaf4792a5c312f7456a5e0f.jpg\n",
      "45835ceb7dd44e8eb7d9650d15ef4a6e.jpg\n",
      "5adaa9d9cbcf492c8dab6476e9833ac1.jpg\n",
      "e75fabf866594e9bb9cb9b0a11d0676c.jpg\n",
      "ecf236236b944a8ebbf8c13a7a4ddb4a.jpg\n",
      "d7e178bcf9734ec1b7418ec736848c0c.jpg\n",
      "8ccea2357bd6405a85f688ea927b6d70.jpg\n",
      "d2540ba322f64f0386e0544671a78dcb.jpg\n",
      "286ed895a04d4da3a51a0c2f202cc0f5.jpg\n",
      "926a961e2a804ad3936795e6b66b5759.jpg\n",
      "image-s-0x450-f-jpeg_jpg.rf.6b983d13b4f869ad54ea773e0725bad1.jpg\n",
      "3d6ecd646b664f1aae6bdf8f247bb435.jpg\n",
      "askasnk_jpg.rf.6676b538895dc0b4e960a7a5f1dcd7a0.jpg\n",
      "z28521982Q-Neso-Bus_jpg.rf.e331e5dca3dad74e5a1e5d30ff6f7d72.jpg\n",
      "64362dffe3e142eca65a0fda292be12c.jpg\n",
      "6c33f12837cb4d84b802afd65b67fe49.jpg\n",
      "2bebc9c0cefc475daa2b10b7f82735fd.jpg\n",
      "t3_jpg.rf.b19ec0f70a8f5f08c52bff372f702f48.jpg\n",
      "7ec03cb0c1234802a20210c25b8d46dc.jpg\n",
      "0d48c5d64152438cb891a0dade98d0ce.jpg\n",
      "8500c1e5e57942f4a9ee8b2692a89ea5.jpg\n",
      "8166fad04a0e4a5db3c282271e06cbdb.jpg\n",
      "899025cfecc34ec7a7fc6e77369336de.jpg\n",
      "6d49b55ef2b540edb3be5187d2fb364a.jpg\n",
      "Bez-nazwy_jpg.rf.b050a7419bfe8e249ff497d51631e391.jpg\n",
      "530f471f4af048c9a0f404bc0805fbd3.jpg\n",
      "t4_jpg.rf.224f07aab24f0ac28ffdd3b61ef38400.jpg\n",
      "polen17_jpg.rf.67a03dbe77abba286c79c27ea0e9982f.jpg\n",
      "45fc82114e304184b605143b7438c452.jpg\n",
      "dc1e2d523b724b8489af75dd5cecc9cf.jpg\n",
      "f87fcb1e320d4f92a0da444cd0313952.jpg\n",
      "04c7fa776bce4c0cb1ba63e7a22eb9cc.jpg\n",
      "d371b97e01f44e5fa5bddf058e22fbb6.jpg\n",
      "6875543253b94f1a9c914758b90198ff.jpg\n",
      "20221023_172755-jpg-46712af6b6d5f2917ae16e2cff9d0090_jpg.rf.a62a01bee9bbd60b6ec9636e868266a2.jpg\n",
      "7a1b839737bc4729a5ffc8b7a1fff5c7.jpg\n",
      "2c73460bded04e95b5df35a44614c439.jpg\n",
      "76d83095ed3443399b8d15ff9a229fb1.jpg\n",
      "0183d604136d4892a343c295926de09d.jpg\n",
      "4a9d3b133cc744cdb510aea6f722ba1f.jpg\n",
      "7b47648c2d1247a6aa6d42c6e17092b9.jpg\n",
      "b5f7d96ec0aa4216ad96c406adbece61.jpg\n",
      "edeae2e4fea943bfa99e25c995829296.jpg\n",
      "103fecb875c8488b9ad59359e97bc08c.jpg\n",
      "2a591bdf517d45199d267c3de1180950.jpg\n",
      "5702f09fa67a4565b230f4457fb47a19.jpg\n",
      "a6a6cac1fc5b4617ab64435fb2a8653d.jpg\n",
      "polen33_jpg.rf.22f66753fa84e9c4108f8e1dbc224a6b.jpg\n",
      "8255a8bd900e4d3d993060fe0887e276.jpg\n",
      "d98573838ccd4f8e912c966cb65ae5b0.jpg\n",
      "ee18968899104dcf8a49317ec917b3ad.jpg\n",
      "5f2d7b4004094ba5a7c2ffaa5e20e0f2.jpg\n",
      "e11d477e01a84a49a2bac9d54f5fcc9e.jpg\n",
      "e4aca00b58c346ebbe9dcfe1cf0bfc96.jpg\n",
      "thumb-article-1544-tmain_jpg.rf.9351b5daeed0d52c3b974daadd3a5721.jpg\n",
      "3926fc151787407499edc6a48b93cd33.jpg\n",
      "72665b001c7541b387dbda31ebeafdbc.jpg\n",
      "c79ca25239584e42a8521d935256b2f0.jpg\n",
      "e105e57472724097bfd14e946435021c.jpg\n",
      "07c05bc631f9435c8d9fc4314ea99f9e.jpg\n",
      "dc1390f1b6ef49e28b6ca18e806a07dc.jpg\n",
      "7d07c193844a4d0d9392244b5765e0b0.jpg\n",
      "shutterstock_2056959638_jpg.rf.45d16f0c1bdc92418a51923d86840622.jpg\n",
      "jpeg_jpg.rf.162ea394ad1077bd450e590d3ab1d8dd.jpg\n",
      "86794de89772499183f3d7b86cb8295a.jpg\n",
      "1797775b2e764cb08ab27fe0ba5b57c4.jpg\n",
      "b120b8475db243f49087d984e320db73.jpg\n",
      "9ac76862c4154391a18e855debfe0217.jpg\n",
      "Vw-id-test-polska-40_jpg.rf.98d1afb5a76764f8734a507712cf207b.jpg\n",
      "a627a2a1039d4c52a82179244af011c9.jpg\n",
      "dadf3518496248cfa84ed763df104fcd.jpg\n",
      "7ba5d4a680604248b47bd2a5584a72d7.jpg\n",
      "f3570c00aca84522b125cc649192fdda.jpg\n",
      "870642d3973a4b00910b6fc19ed9d6ab.jpg\n",
      "XBha3Rvd2UtMzczMTUxMDIuanBnIiwidyI6MTEwMH0_png.rf.10c81df8253b08d7de0797f425b720f2.jpg\n",
      "f21bd344e54d4f338f463636d27fe96e.jpg\n",
      "dcacb04a861c44a9b81a293c9dbb7f0e.jpg\n",
      "0563b37549e444bcb57aeea297aa59e8.jpg\n",
      "images_jpg.rf.8b5b44f52e8cc5625bdbe8481004ec6b.jpg\n",
      "c9698bff25b84a798f8120d783e16491.jpg\n",
      "c7853e911d3c46dfa4442b4487c1a0af.jpg\n",
      "529e20154aad4fccb272c28b513feecf.jpg\n",
      "b53e1bc755a24c199bb8dd8fba788395.jpg\n",
      "jokasjonsa_jpg.rf.84b2572c899f1f8d505f3da60e7fb1d1.jpg\n",
      "70ff49151c37432bb5d0b8be97d12de4.jpg\n",
      "641f989259d5458dbb5dd86ce3e3e4c9.jpg\n",
      "0b8257e1b1ba47afabce7a5befb084b2.jpg\n",
      "a9b4449454a043b78f747beffc75ac85.jpg\n",
      "8576d306f8af484ab9f3e9b8b8451b74.jpg\n",
      "bbd17a9995434e7d93c5bab68d3320a9.jpg\n",
      "c15a15eed02b4eaf8855f8b363a7dea3.jpg\n",
      "d90a5fe78d2d41a098b1d187ef58671a.jpg\n",
      "1068932885ba4c658759223b9d6e869c.jpg\n",
      "67bf4588fc79450c81f75b4430317f50.jpg\n",
      "6de5f1389e6e4ad0af2508125e4c5640.jpg\n",
      "938b8ba3d03c4314b03d7cb90d9addd8.jpg\n",
      "d6705f794f2b4a3fa04de82d5f0a084a.jpg\n",
      "1f0594fa36ca4459930123f7f9891a84.jpg\n",
      "6fde16fa119d4f428d46e62657265ded.jpg\n",
      "f0a28bed3e2f495e8c8d53ded39c9c95.jpg\n",
      "82e29143f75940de9ca17fdb112a16d8.jpg\n",
      "1a66aed8166d4e67a8ab23001eebdb55.jpg\n",
      "bb27dfb6afa14f778c7c664ada07f672.jpg\n",
      "3b51a08d19ed44e18b7f98c95214af8a.jpg\n"
     ]
    }
   ],
   "source": [
    "# run segmentation on the train plates\n",
    "results_directory = os.path.join(os.getcwd(), \"data\")\n",
    "\n",
    "test_directory = os.path.join(os.getcwd(), \"..\", \"..\", \"samples\", \"train\")\n",
    "segmented_characters = segment_directory(test_directory)\n",
    "\n",
    "for index, character in enumerate(segmented_characters):\n",
    "    character.save(os.path.join(results_directory, f\"{index + 1}.png\"))\n"
   ],
   "metadata": {
    "collapsed": false,
    "ExecuteTime": {
     "end_time": "2024-12-17T21:51:32.529277Z",
     "start_time": "2024-12-17T21:51:32.358961Z"
    }
   },
   "id": "a42e374959abc28b"
  },
  {
   "cell_type": "code",
   "execution_count": 49,
   "outputs": [],
   "source": [
    "# create directories to sort the segmented characters\n",
    "sorted_directory = os.path.join(os.getcwd(), \"data\", \"sorted\")\n",
    "\n",
    "if not os.path.exists(sorted_directory):\n",
    "    os.mkdir(sorted_directory)\n",
    "    \n",
    "for i in range(10):\n",
    "    directory = os.path.join(sorted_directory, str(i))\n",
    "    if not os.path.exists(directory):\n",
    "        os.mkdir(directory)\n",
    "\n",
    "for i in range(65, 91):\n",
    "    directory = os.path.join(sorted_directory, chr(i))\n",
    "    if not os.path.exists(directory):\n",
    "        os.mkdir(directory)\n"
   ],
   "metadata": {
    "collapsed": false,
    "ExecuteTime": {
     "end_time": "2024-12-17T21:47:26.480689Z",
     "start_time": "2024-12-17T21:47:26.473857Z"
    }
   },
   "id": "ea81f67e9590fd1"
  },
  {
   "cell_type": "code",
   "execution_count": 62,
   "outputs": [
    {
     "name": "stdout",
     "output_type": "stream",
     "text": [
      "0: 46\n",
      "1: 51\n",
      "2: 64\n",
      "3: 45\n",
      "4: 51\n",
      "5: 49\n",
      "6: 52\n",
      "7: 63\n",
      "8: 54\n",
      "9: 58\n",
      "A: 25\n",
      "B: 13\n",
      "C: 27\n",
      "D: 3\n",
      "E: 17\n",
      "F: 11\n",
      "G: 12\n",
      "H: 12\n",
      "I: 12\n",
      "J: 19\n",
      "K: 36\n",
      "L: 27\n",
      "M: 19\n",
      "N: 7\n",
      "O: 16\n",
      "P: 7\n",
      "Q: 0\n",
      "R: 12\n",
      "S: 127\n",
      "T: 29\n",
      "U: 9\n",
      "V: 11\n",
      "W: 21\n",
      "X: 6\n",
      "Y: 8\n",
      "Z: 13\n"
     ]
    }
   ],
   "source": [
    "# check how many samples in every category after manual sorting\n",
    "sorted_directory = os.path.join(os.getcwd(), \"data\", \"sorted\")\n",
    "\n",
    "for category in sorted(os.listdir(sorted_directory)):\n",
    "    category_directory = os.path.join(sorted_directory, category)\n",
    "    if not os.path.isdir(category_directory):\n",
    "        continue\n",
    "    category_items = len(os.listdir(category_directory))\n",
    "    print(f\"{category}: {category_items}\")"
   ],
   "metadata": {
    "collapsed": false,
    "ExecuteTime": {
     "end_time": "2024-12-21T20:34:46.908161Z",
     "start_time": "2024-12-21T20:34:46.902488Z"
    }
   },
   "id": "a338702ba535ba74"
  },
  {
   "cell_type": "code",
   "execution_count": 63,
   "outputs": [],
   "source": [
    "# adjust image size\n",
    "EXPECTED_WIDTH = 27\n",
    "EXPECTED_HEIGHT = 40\n",
    "\n",
    "def adjust_image_size(image):\n",
    "    img = Image.fromarray(image)\n",
    "    # resize keeping the aspect ratio\n",
    "    img = ImageOps.contain(img, (EXPECTED_WIDTH, EXPECTED_HEIGHT), Image.Resampling.NEAREST)\n",
    "    \n",
    "    # add padding if the image is smaller than the expected size\n",
    "    array = np.array(img)\n",
    "    if array.shape[0] < EXPECTED_HEIGHT:\n",
    "        new_array = np.zeros((EXPECTED_HEIGHT, array.shape[1]), dtype=np.uint8)\n",
    "        start = (EXPECTED_HEIGHT - array.shape[0]) // 2\n",
    "        new_array[start:(array.shape[0] + start), :] = array\n",
    "        array = new_array\n",
    "    \n",
    "    if array.shape[1] < EXPECTED_WIDTH:\n",
    "        new_array = np.zeros((array.shape[0], EXPECTED_WIDTH), dtype=np.uint8)\n",
    "        start = (EXPECTED_WIDTH - array.shape[1]) // 2\n",
    "        new_array[:, start:(array.shape[1] + start)] = array\n",
    "        array = new_array\n",
    "        \n",
    "    return array"
   ],
   "metadata": {
    "collapsed": false,
    "ExecuteTime": {
     "end_time": "2024-12-21T20:35:15.468544Z",
     "start_time": "2024-12-21T20:35:15.465092Z"
    }
   },
   "id": "745376a7ad597d28"
  },
  {
   "cell_type": "code",
   "execution_count": 64,
   "outputs": [],
   "source": [
    "# Prepare training data\n",
    "classes_directory = os.path.join(os.getcwd(), \"data\", \"sorted\")\n",
    "classes = sorted(filter(lambda x: os.path.isdir(os.path.join(classes_directory, x)), os.listdir(classes_directory)))\n",
    "\n",
    "x_train = []\n",
    "y_train = []\n",
    "for index, c in enumerate(classes):\n",
    "    class_directory = os.path.join(classes_directory, c)\n",
    "    for file in os.listdir(class_directory):\n",
    "        if not file.endswith(\".png\"):\n",
    "            continue\n",
    "        \n",
    "        file_path = os.path.join(class_directory, file)\n",
    "        pillow_image = Image.open(file_path)\n",
    "        image = np.array(pillow_image)\n",
    "        image = adjust_image_size(image)\n",
    "        # scale input data to [0,1]\n",
    "        image = image / 255.0\n",
    "        x_train.append(image)\n",
    "        y_train.append(index)\n",
    "    \n",
    "x_train = np.array(x_train)\n",
    "y_train = np.array(y_train)"
   ],
   "metadata": {
    "collapsed": false,
    "ExecuteTime": {
     "end_time": "2024-12-21T20:35:17.897875Z",
     "start_time": "2024-12-21T20:35:17.733578Z"
    }
   },
   "id": "a7ba0d2da3203407"
  },
  {
   "cell_type": "code",
   "execution_count": 67,
   "outputs": [
    {
     "name": "stdout",
     "output_type": "stream",
     "text": [
      "Epoch 1/10\n",
      "\u001B[1m33/33\u001B[0m \u001B[32m━━━━━━━━━━━━━━━━━━━━\u001B[0m\u001B[37m\u001B[0m \u001B[1m0s\u001B[0m 2ms/step - accuracy: 0.3653 - loss: 2.6941  \n",
      "Epoch 2/10\n",
      "\u001B[1m33/33\u001B[0m \u001B[32m━━━━━━━━━━━━━━━━━━━━\u001B[0m\u001B[37m\u001B[0m \u001B[1m0s\u001B[0m 1ms/step - accuracy: 0.8040 - loss: 0.7802 \n",
      "Epoch 3/10\n",
      "\u001B[1m33/33\u001B[0m \u001B[32m━━━━━━━━━━━━━━━━━━━━\u001B[0m\u001B[37m\u001B[0m \u001B[1m0s\u001B[0m 2ms/step - accuracy: 0.8785 - loss: 0.5248 \n",
      "Epoch 4/10\n",
      "\u001B[1m33/33\u001B[0m \u001B[32m━━━━━━━━━━━━━━━━━━━━\u001B[0m\u001B[37m\u001B[0m \u001B[1m0s\u001B[0m 2ms/step - accuracy: 0.9373 - loss: 0.2754 \n",
      "Epoch 5/10\n",
      "\u001B[1m33/33\u001B[0m \u001B[32m━━━━━━━━━━━━━━━━━━━━\u001B[0m\u001B[37m\u001B[0m \u001B[1m0s\u001B[0m 2ms/step - accuracy: 0.9453 - loss: 0.2072 \n",
      "Epoch 6/10\n",
      "\u001B[1m33/33\u001B[0m \u001B[32m━━━━━━━━━━━━━━━━━━━━\u001B[0m\u001B[37m\u001B[0m \u001B[1m0s\u001B[0m 2ms/step - accuracy: 0.9697 - loss: 0.1637 \n",
      "Epoch 7/10\n",
      "\u001B[1m33/33\u001B[0m \u001B[32m━━━━━━━━━━━━━━━━━━━━\u001B[0m\u001B[37m\u001B[0m \u001B[1m0s\u001B[0m 2ms/step - accuracy: 0.9680 - loss: 0.1486 \n",
      "Epoch 8/10\n",
      "\u001B[1m33/33\u001B[0m \u001B[32m━━━━━━━━━━━━━━━━━━━━\u001B[0m\u001B[37m\u001B[0m \u001B[1m0s\u001B[0m 2ms/step - accuracy: 0.9754 - loss: 0.1054 \n",
      "Epoch 9/10\n",
      "\u001B[1m33/33\u001B[0m \u001B[32m━━━━━━━━━━━━━━━━━━━━\u001B[0m\u001B[37m\u001B[0m \u001B[1m0s\u001B[0m 2ms/step - accuracy: 0.9813 - loss: 0.0948 \n",
      "Epoch 10/10\n",
      "\u001B[1m33/33\u001B[0m \u001B[32m━━━━━━━━━━━━━━━━━━━━\u001B[0m\u001B[37m\u001B[0m \u001B[1m0s\u001B[0m 2ms/step - accuracy: 0.9879 - loss: 0.0719 \n"
     ]
    },
    {
     "data": {
      "text/plain": "<keras.src.callbacks.history.History at 0x15274e140>"
     },
     "execution_count": 67,
     "metadata": {},
     "output_type": "execute_result"
    }
   ],
   "source": [
    "import keras\n",
    "from keras import layers, models\n",
    "\n",
    "# Build the model (fully connected neural network)\n",
    "model = models.Sequential([\n",
    "    keras.Input(shape=(40, 27)),\n",
    "    layers.Flatten(),\n",
    "    layers.Dense(128, activation='relu'),\n",
    "    layers.Dropout(0.4),\n",
    "    layers.Dense(len(classes), activation='softmax')\n",
    "], name=\"RecognizePlateCharacter\")\n",
    "\n",
    "# Other possible solutions\n",
    "# https://www.tensorflow.org/tutorials/images/classification\n",
    "# CNN\n",
    "# model = models.Sequential([\n",
    "#     layers.Rescaling(1./255, input_shape=(img_height, img_width, 3)),\n",
    "#     layers.Conv2D(16, 3, padding='same', activation='relu'),\n",
    "#     layers.MaxPooling2D(),\n",
    "#     layers.Conv2D(32, 3, padding='same', activation='relu'),\n",
    "#     layers.MaxPooling2D(),\n",
    "#     layers.Conv2D(64, 3, padding='same', activation='relu'),\n",
    "#     layers.MaxPooling2D(),\n",
    "#     layers.Flatten(),\n",
    "#     layers.Dense(128, activation='relu'),\n",
    "#     layers.Dense(num_classes)\n",
    "# ])\n",
    "\n",
    "# Prepare for training\n",
    "model.compile(optimizer='adam', loss='sparse_categorical_crossentropy', metrics=['accuracy'])\n",
    "\n",
    "# Train model\n",
    "model.fit(x_train, y_train, epochs=10)\n"
   ],
   "metadata": {
    "collapsed": false,
    "ExecuteTime": {
     "end_time": "2024-12-21T20:51:27.867529Z",
     "start_time": "2024-12-21T20:51:26.970538Z"
    }
   },
   "id": "5a0eb85cd3b2c73e"
  },
  {
   "cell_type": "code",
   "execution_count": 60,
   "outputs": [],
   "source": [
    "# Save the model\n",
    "model.save(\"./recognition_model.keras\")"
   ],
   "metadata": {
    "collapsed": false,
    "ExecuteTime": {
     "end_time": "2024-12-21T20:11:54.684755Z",
     "start_time": "2024-12-21T20:11:54.653504Z"
    }
   },
   "id": "488589a0de88f433"
  },
  {
   "cell_type": "code",
   "execution_count": null,
   "outputs": [],
   "source": [],
   "metadata": {
    "collapsed": false
   },
   "id": "68b019d01ffeef90"
  }
 ],
 "metadata": {
  "kernelspec": {
   "display_name": "Python 3",
   "language": "python",
   "name": "python3"
  },
  "language_info": {
   "codemirror_mode": {
    "name": "ipython",
    "version": 2
   },
   "file_extension": ".py",
   "mimetype": "text/x-python",
   "name": "python",
   "nbconvert_exporter": "python",
   "pygments_lexer": "ipython2",
   "version": "2.7.6"
  }
 },
 "nbformat": 4,
 "nbformat_minor": 5
}
