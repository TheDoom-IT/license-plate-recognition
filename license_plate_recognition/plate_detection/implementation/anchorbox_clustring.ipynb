{
 "cells": [
  {
   "cell_type": "code",
   "execution_count": 21,
   "metadata": {},
   "outputs": [],
   "source": [
    "import os\n",
    "import matplotlib.pyplot as plt\n",
    "from IPython.display import clear_output\n",
    "\n",
    "import numpy as np"
   ]
  },
  {
   "cell_type": "code",
   "execution_count": 3,
   "metadata": {},
   "outputs": [],
   "source": [
    "DATASET_DIR = \"..\\\\.dataset\""
   ]
  },
  {
   "cell_type": "code",
   "execution_count": null,
   "metadata": {},
   "outputs": [],
   "source": [
    "def load_dataset():\n",
    "    data = {\"train\": [], \"test\": [], \"valid\": []}\n",
    "    for country in os.listdir(DATASET_DIR):\n",
    "        for data_type in os.listdir(os.path.join(DATASET_DIR, country)):\n",
    "            for metadata in os.listdir(os.path.join(DATASET_DIR, country, data_type)):\n",
    "                if metadata.endswith(\".txt\"):\n",
    "                    with open(os.path.join(DATASET_DIR, country, data_type, metadata)) as f:\n",
    "                        for line in f:\n",
    "                            data_point = line.strip().split(\" \")[-2:]\n",
    "                            data_point = np.array([float(x) for x in data_point])\n",
    "                            data[data_type].append(data_point)\n",
    "    \n",
    "    return np.array(data[\"train\"]), np.array(data[\"valid\"]), np.array(data[\"test\"])\n",
    "\n",
    "\n",
    "train, valid, test = load_dataset()\n"
   ]
  },
  {
   "cell_type": "code",
   "execution_count": 21,
   "metadata": {},
   "outputs": [
    {
     "data": {
      "text/plain": [
       "((1240, 2), (316, 2), (177, 2))"
      ]
     },
     "execution_count": 21,
     "metadata": {},
     "output_type": "execute_result"
    }
   ],
   "source": [
    "train.shape, valid.shape, test.shape"
   ]
  },
  {
   "cell_type": "markdown",
   "metadata": {},
   "source": [
    "### We need to find the correct aspect ratio over all our datasets"
   ]
  },
  {
   "cell_type": "code",
   "execution_count": 56,
   "metadata": {},
   "outputs": [],
   "source": [
    "data = np.concatenate((train, valid, test), axis=0)"
   ]
  },
  {
   "cell_type": "code",
   "execution_count": 57,
   "metadata": {},
   "outputs": [
    {
     "data": {
      "image/png": "[encoded data removed]",
      "text/plain": [
       "<Figure size 640x480 with 1 Axes>"
      ]
     },
     "metadata": {},
     "output_type": "display_data"
    }
   ],
   "source": [
    "fig, ax = plt.subplots()\n",
    "ax.scatter(data[:, 1], data[:, 0])\n",
    "plt.show()"
   ]
  },
  {
   "cell_type": "markdown",
   "metadata": {},
   "source": [
    "# Finding random centroids"
   ]
  },
  {
   "cell_type": "code",
   "execution_count": 58,
   "metadata": {},
   "outputs": [],
   "source": [
    "def generate_random_centroids(data, k=1):\n",
    "    centroids = map(lambda idx: np.random.choice(data[:, idx], size=k, replace=False), range(data.shape[1]))\n",
    "    centroids = np.array(list(centroids))\n",
    "    return centroids.T"
   ]
  },
  {
   "cell_type": "code",
   "execution_count": 59,
   "metadata": {},
   "outputs": [
    {
     "data": {
      "text/plain": [
       "array([[0.2       , 0.05328571],\n",
       "       [0.29334286, 0.0838    ],\n",
       "       [0.18285714, 0.08194286],\n",
       "       [0.28101706, 0.10191429],\n",
       "       [0.10142857, 0.07728957]])"
      ]
     },
     "execution_count": 59,
     "metadata": {},
     "output_type": "execute_result"
    }
   ],
   "source": [
    "centroids = generate_random_centroids(data, 5)\n",
    "centroids"
   ]
  },
  {
   "cell_type": "markdown",
   "metadata": {},
   "source": [
    "# Calculate IOU distance\n",
    "This distance measurement is taken from YOLOv2 paper,\n",
    "instead of euclidean distance we measure the IOU distance"
   ]
  },
  {
   "cell_type": "code",
   "execution_count": 70,
   "metadata": {},
   "outputs": [],
   "source": [
    "def calculate_iou(box, centroid):\n",
    "    # intersection area between boxes and centroids\n",
    "    bnc_area = np.minimum(box[:, 0], centroid[0]) * np.minimum(box[:, 1], centroid[1])\n",
    "    # union area of boxes and centroids\n",
    "    buc_area = box[:, 0] * box[:, 1] + centroid[0] * centroid[1] - bnc_area\n",
    "\n",
    "    iou = bnc_area/buc_area\n",
    "\n",
    "    return iou\n",
    "\n",
    "def calculate_iou_distance(box, centroid):\n",
    "    return 1 - calculate_iou(box, centroid)\n"
   ]
  },
  {
   "cell_type": "markdown",
   "metadata": {},
   "source": [
    "### We use get_labels to get the cluster of each data point"
   ]
  },
  {
   "cell_type": "code",
   "execution_count": 61,
   "metadata": {},
   "outputs": [],
   "source": [
    "def get_labels(data, centroids):\n",
    "    distances = np.array([calculate_iou_distance(data, centroid) for centroid in centroids])\n",
    "    return np.argmin(distances, axis=0)"
   ]
  },
  {
   "cell_type": "code",
   "execution_count": 63,
   "metadata": {},
   "outputs": [
    {
     "data": {
      "text/plain": [
       "(array([0, 1, 2, 3, 4]), array([835, 162, 290, 139, 307]))"
      ]
     },
     "execution_count": 63,
     "metadata": {},
     "output_type": "execute_result"
    }
   ],
   "source": [
    "unique_clusters, frequency = np.unique(get_labels(data, centroids), return_counts=True)\n",
    "unique_clusters, frequency"
   ]
  },
  {
   "cell_type": "markdown",
   "metadata": {},
   "source": [
    "### Calculating geometric mean to find new centroids"
   ]
  },
  {
   "cell_type": "code",
   "execution_count": 97,
   "metadata": {},
   "outputs": [],
   "source": [
    "def calc_geometric_mean(labels, data):\n",
    "    unique_labels = np.unique(labels)\n",
    "    if max(unique_labels) >= unique_labels.shape[0]:\n",
    "        raise ValueError(f\"Number of unique {unique_labels}\")\n",
    "    means = np.zeros((unique_labels.shape[0], data.shape[1]))\n",
    "    for label in unique_labels:\n",
    "        indices = np.where(labels == label)[0]\n",
    "        means[label, :] = [np.exp(np.mean(np.log(data[indices, idx]))) for idx in range(data.shape[1])] \n",
    "\n",
    "    return means"
   ]
  },
  {
   "cell_type": "code",
   "execution_count": 68,
   "metadata": {},
   "outputs": [],
   "source": [
    "def plot_clusters(data, labels, centroids, iterations):\n",
    "    clear_output(wait=True)\n",
    "    plt.title(f\"Iteration {iterations}\")\n",
    "    plt.scatter(x=data[:, 0], y=data[:, 1], c=labels)\n",
    "    plt.scatter(x=centroids[:, 0], y=centroids[:, 1])\n",
    "    plt.show()"
   ]
  },
  {
   "cell_type": "markdown",
   "metadata": {},
   "source": [
    "### Calculate Average IOU"
   ]
  },
  {
   "cell_type": "code",
   "execution_count": 86,
   "metadata": {},
   "outputs": [],
   "source": [
    "def calc_average_iou(data, labels,centroids):\n",
    "    unique_labels = np.unique(labels)\n",
    "    iou = np.array([])\n",
    "\n",
    "    for label in unique_labels:\n",
    "        indices = np.where(labels == label)[0]\n",
    "        cluster = data[indices, :]\n",
    "        iou = np.concatenate((iou, calculate_iou(cluster, centroids[label])), axis=0)\n",
    "    return np.mean(iou)"
   ]
  },
  {
   "cell_type": "markdown",
   "metadata": {},
   "source": [
    "# Running our K-means algorithm for various values of k"
   ]
  },
  {
   "cell_type": "code",
   "execution_count": 117,
   "metadata": {},
   "outputs": [],
   "source": [
    "def find_optimal_centroids(k, centroids, max_iterations=1):\n",
    "    iteration = 1\n",
    "    old_centroids = np.zeros(centroids.shape)\n",
    "\n",
    "    while iteration < max_iterations and not np.all(old_centroids == centroids):\n",
    "        if iteration == 1:\n",
    "            labels = get_labels(data, centroids)\n",
    "            if np.unique(labels).shape[0] < k:\n",
    "                centroids = generate_random_centroids(data, k)\n",
    "                continue\n",
    "\n",
    "        old_centroids = centroids\n",
    "\n",
    "        iteration = 1\n",
    "        labels = get_labels(data, centroids)\n",
    "        centroids = calc_geometric_mean(labels, data)\n",
    "\n",
    "        iteration += 1\n",
    "    return centroids\n"
   ]
  },
  {
   "cell_type": "code",
   "execution_count": 120,
   "metadata": {},
   "outputs": [
    {
     "data": {
      "text/plain": [
       "array([0.58988954, 0.68132305, 0.72821759, 0.75725985, 0.77491472,\n",
       "       0.7805078 , 0.79575632, 0.80441479, 0.81443097, 0.82230934,\n",
       "       0.82539052, 0.83385631, 0.84273699, 0.84782915, 0.85112913])"
      ]
     },
     "execution_count": 120,
     "metadata": {},
     "output_type": "execute_result"
    }
   ],
   "source": [
    "max_iterations = 1000\n",
    "k_values = [1, 2, 3, 4, 5, 6, 7, 8, 9,10, 11, 12, 13, 14, 15]\n",
    "\n",
    "\n",
    "average_iou = np.zeros((len(k_values)))\n",
    "for idx, k in enumerate(k_values):\n",
    "    centroids = find_optimal_centroids(k, generate_random_centroids(data, k), max_iterations)\n",
    "    \n",
    "    labels = get_labels(data, centroids)\n",
    "    average_iou[idx] = calc_average_iou(data, labels, centroids)\n",
    "\n",
    "average_iou"
   ]
  },
  {
   "cell_type": "code",
   "execution_count": 121,
   "metadata": {},
   "outputs": [
    {
     "data": {
      "image/png": "[encoded data removed]",
      "text/plain": [
       "<Figure size 600x600 with 1 Axes>"
      ]
     },
     "metadata": {},
     "output_type": "display_data"
    }
   ],
   "source": [
    "plt.figure(figsize=(6, 6))\n",
    "plt.plot(k_values, average_iou, color='blue', label='Anchor Boxes', marker='o', markersize=8, linestyle='-', linewidth=2)\n",
    "plt.axvline(x=5, color='k', linestyle='--')\n",
    "plt.ylim(0, np.max(average_iou)+0.1)\n",
    "\n",
    "plt.xlabel('# Clusters')\n",
    "plt.ylabel('Avg IOU')\n",
    "plt.title('Avg IOU vs. # Clusters')\n",
    "\n",
    "plt.legend()\n",
    "plt.show()"
   ]
  },
  {
   "cell_type": "markdown",
   "metadata": {},
   "source": [
    "### Selecting centroids\n",
    "Finally we select k=5 as our cluster as the curve change after 5 is small."
   ]
  },
  {
   "cell_type": "code",
   "execution_count": 123,
   "metadata": {},
   "outputs": [
    {
     "data": {
      "text/plain": [
       "array([[0.2451295 , 0.1225873 ],\n",
       "       [0.2318253 , 0.07109304],\n",
       "       [0.0892604 , 0.0282808 ],\n",
       "       [0.16825111, 0.05899584],\n",
       "       [0.13760775, 0.03984031]])"
      ]
     },
     "execution_count": 123,
     "metadata": {},
     "output_type": "execute_result"
    }
   ],
   "source": [
    "centroids = find_optimal_centroids(5, generate_random_centroids(data, 5), max_iterations)\n",
    "centroids"
   ]
  },
  {
   "cell_type": "code",
   "execution_count": null,
   "metadata": {},
   "outputs": [],
   "source": []
  }
 ],
 "metadata": {
  "kernelspec": {
   "display_name": "license-plate-recognition-22F53Sqn-py3.11",
   "language": "python",
   "name": "python3"
  },
  "language_info": {
   "codemirror_mode": {
    "name": "ipython",
    "version": 3
   },
   "file_extension": ".py",
   "mimetype": "text/x-python",
   "name": "python",
   "nbconvert_exporter": "python",
   "pygments_lexer": "ipython3",
   "version": "3.11.5"
  }
 },
 "nbformat": 4,
 "nbformat_minor": 2
}
